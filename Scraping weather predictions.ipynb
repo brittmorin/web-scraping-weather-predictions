{
 "cells": [
  {
   "cell_type": "code",
   "execution_count": 1,
   "metadata": {},
   "outputs": [],
   "source": [
    "# Import Beautiful Soup and open html file\n",
    "\n",
    "from bs4 import BeautifulSoup\n",
    "\n",
    "soup = BeautifulSoup(open(\"C:\\\\Users\\\\britt\\\\OneDrive\\\\Desktop\\\\Unstructured\\\\WeatherUnderground.html\", encoding=\"utf8\"), \"html.parser\")"
   ]
  },
  {
   "cell_type": "code",
   "execution_count": 2,
   "metadata": {},
   "outputs": [
    {
     "data": {
      "text/plain": [
       "'40° | 25°FShowers40° | 33°FMostly Cloudy45° | 32°FRain42° | 27°FMostly Cloudy36° | 19°FPartly Cloudy34° | 22°FMostly Sunny34° | 17°FPartly Cloudy30° | 22°FPartly Cloudy36° | 22°FAM Rain/Snow31° | 16°FPartly Cloudy'"
      ]
     },
     "execution_count": 2,
     "metadata": {},
     "output_type": "execute_result"
    }
   ],
   "source": [
    "# Get all forecast info\n",
    "\n",
    "forecast = soup.find('div', {'class':'forecast'})\n",
    "forecast.get_text()"
   ]
  },
  {
   "cell_type": "code",
   "execution_count": 3,
   "metadata": {},
   "outputs": [
    {
     "data": {
      "text/plain": [
       "'Precip0.03 inPrecip0.19 inPrecip0.8 inPrecip0 inPrecip0 inPrecip0 inPrecip0 inSnow0.2 inSnow1.3 inPrecip-- in'"
      ]
     },
     "execution_count": 3,
     "metadata": {},
     "output_type": "execute_result"
    }
   ],
   "source": [
    "# Get all precipitation info\n",
    "\n",
    "precip = soup.find('div', {'class':'precip'})\n",
    "precip.get_text()"
   ]
  },
  {
   "cell_type": "code",
   "execution_count": 4,
   "metadata": {},
   "outputs": [],
   "source": [
    "# Now use get_text() to isolate the number (which will be in string format) from the tags\n",
    "\n",
    "all_precip = precip.get_text()"
   ]
  },
  {
   "cell_type": "code",
   "execution_count": 5,
   "metadata": {},
   "outputs": [
    {
     "name": "stdout",
     "output_type": "stream",
     "text": [
      "Precip0.03 inPrecip0.19 inPrecip0.8 inPrecip0 inPrecip0 inPrecip0 inPrecip0 inSnow0.2 inSnow1.3 inPrecip-- in\n"
     ]
    }
   ],
   "source": [
    "print(all_precip)"
   ]
  },
  {
   "cell_type": "code",
   "execution_count": 6,
   "metadata": {},
   "outputs": [
    {
     "name": "stdout",
     "output_type": "stream",
     "text": [
      "<class 'str'>\n"
     ]
    }
   ],
   "source": [
    "print(type(all_precip))"
   ]
  },
  {
   "cell_type": "code",
   "execution_count": 7,
   "metadata": {},
   "outputs": [
    {
     "name": "stdout",
     "output_type": "stream",
     "text": [
      "['0.2', '1.3']\n"
     ]
    }
   ],
   "source": [
    "# Split the text from the floats and convert numbers to floats\n",
    "\n",
    "import re\n",
    "\n",
    "snow = re.findall(\"inSnow(\\d*\\.\\d*)\", all_precip)\n",
    "print(snow)"
   ]
  },
  {
   "cell_type": "code",
   "execution_count": 8,
   "metadata": {},
   "outputs": [
    {
     "data": {
      "text/plain": [
       "[0.2, 1.3]"
      ]
     },
     "execution_count": 8,
     "metadata": {},
     "output_type": "execute_result"
    }
   ],
   "source": [
    "# Convert string numbers to floats\n",
    "\n",
    "snow_floats = []\n",
    "i = 0\n",
    "\n",
    "for s in snow:\n",
    "    snow_floats.append(float(s))\n",
    "    i += 1\n",
    "    \n",
    "snow_floats"
   ]
  },
  {
   "cell_type": "code",
   "execution_count": 9,
   "metadata": {},
   "outputs": [
    {
     "data": {
      "text/plain": [
       "1.5"
      ]
     },
     "execution_count": 9,
     "metadata": {},
     "output_type": "execute_result"
    }
   ],
   "source": [
    "sum(snow_floats)"
   ]
  },
  {
   "cell_type": "code",
   "execution_count": 10,
   "metadata": {},
   "outputs": [],
   "source": [
    "# Check function with local file\n",
    "\n",
    "from bs4 import BeautifulSoup\n",
    "\n",
    "def snowfall_test(html):\n",
    "    #try:\n",
    "        #html = urlopen(url)\n",
    "    #except HTTPError as e:\n",
    "        #return None\n",
    "    #try:\n",
    "    #soupObj = BeautifulSoup(html.read(), \"html.parser\")\n",
    "    #except AttributeError as e:\n",
    "        #return None\n",
    "    precip = soup.find('div', {'class':'precip'})\n",
    "    all_precip = precip.get_text()\n",
    "    snow = re.findall(\"inSnow(\\d*\\.\\d*)\", all_precip)\n",
    "    snow_floats = []\n",
    "    i = 0\n",
    "\n",
    "    for s in snow:\n",
    "        snow_floats.append(float(s))\n",
    "        i += 1\n",
    "        \n",
    "    return(\"The total inches of snow in the next 10 days is:\", sum(snow_floats))"
   ]
  },
  {
   "cell_type": "code",
   "execution_count": 11,
   "metadata": {},
   "outputs": [
    {
     "data": {
      "text/plain": [
       "('The total inches of snow in the next 10 days is:', 1.5)"
      ]
     },
     "execution_count": 11,
     "metadata": {},
     "output_type": "execute_result"
    }
   ],
   "source": [
    "snowfall_test(\"C:\\\\Users\\\\britt\\\\OneDrive\\\\Desktop\\\\Unstructured\\\\WeatherUnderground.html\")"
   ]
  },
  {
   "cell_type": "code",
   "execution_count": 12,
   "metadata": {},
   "outputs": [],
   "source": [
    "# Get the cumulative snowfall for all 10 days\n",
    "from urllib.request import urlopen, Request\n",
    "from urllib.error import HTTPError\n",
    "from urllib.error import URLError\n",
    "from bs4 import BeautifulSoup\n",
    "import re\n",
    "\n",
    "def snowfall(url):\n",
    "    try:\n",
    "        headers = {\"User-Agent\": \"Mozilla/5.0 (Windows NT 6.1) AppleWebKit/537.36 (KHTML, like Gecko) Chrome/41.0.2228.0 Safari/537.3\"}\n",
    "        reg_url = url\n",
    "        req = Request(url=reg_url, headers=headers) \n",
    "        html = urlopen(req)\n",
    "        soup = BeautifulSoup(html.read(), \"html.parser\")\n",
    "        precip = soup.find('div', {'class':'precip'})\n",
    "        all_precip = precip.get_text()\n",
    "        snow = re.findall(\"inSnow(\\d*\\.\\d*)\", all_precip)\n",
    "        snow_floats = []\n",
    "        i = 0\n",
    "\n",
    "        for s in snow:\n",
    "            snow_floats.append(float(s))\n",
    "            i += 1\n",
    "\n",
    "        return(\"The total inches of snow in the next 10 days is:\", sum(snow_floats))\n",
    "    except HTTPError as e:\n",
    "        print(\"The server returned an HTTP error\")\n",
    "        raise\n",
    "    except AttributeError as e:\n",
    "        print(\"The server could not be found!\")\n",
    "        raise\n",
    "    except:\n",
    "        print(\"Unexpected error:\", sys.exc_info()[0])\n",
    "        raise"
   ]
  },
  {
   "cell_type": "code",
   "execution_count": 13,
   "metadata": {},
   "outputs": [
    {
     "data": {
      "text/plain": [
       "('The total inches of snow in the next 10 days is:', 0)"
      ]
     },
     "execution_count": 13,
     "metadata": {},
     "output_type": "execute_result"
    }
   ],
   "source": [
    "snowfall(\"https://www.wunderground.com/forecast/us/nh/dover\")"
   ]
  },
  {
   "cell_type": "code",
   "execution_count": null,
   "metadata": {},
   "outputs": [],
   "source": []
  }
 ],
 "metadata": {
  "kernelspec": {
   "display_name": "Python 3 (ipykernel)",
   "language": "python",
   "name": "python3"
  },
  "language_info": {
   "codemirror_mode": {
    "name": "ipython",
    "version": 3
   },
   "file_extension": ".py",
   "mimetype": "text/x-python",
   "name": "python",
   "nbconvert_exporter": "python",
   "pygments_lexer": "ipython3",
   "version": "3.9.7"
  }
 },
 "nbformat": 4,
 "nbformat_minor": 4
}
